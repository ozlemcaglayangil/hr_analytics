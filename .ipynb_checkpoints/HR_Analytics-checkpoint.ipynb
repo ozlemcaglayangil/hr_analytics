{
 "cells": [
  {
   "cell_type": "markdown",
   "metadata": {},
   "source": [
    "# IMPORTING DATA AND LIBRARIES"
   ]
  },
  {
   "cell_type": "code",
   "execution_count": 1,
   "metadata": {},
   "outputs": [],
   "source": [
    "#importing related packages \n",
    "\n",
    "import pandas as pd\n",
    "import numpy as np\n",
    "import seaborn as sns\n",
    "from sklearn.model_selection import train_test_split\n",
    "from sklearn.linear_model import LogisticRegression\n",
    "from sklearn.metrics import accuracy_score \n",
    "from sklearn.metrics import confusion_matrix as cm\n",
    "from sklearn.linear_model import SGDClassifier\n",
    "from sklearn.linear_model import LogisticRegression\n",
    "from sklearn.model_selection import cross_val_score\n",
    "from sklearn.model_selection import GridSearchCV\n",
    "from sklearn.metrics import classification_report,confusion_matrix\n",
    "from sklearn.metrics import roc_auc_score,roc_curve\n",
    "pd.options.mode.chained_assignment = None \n",
    "\n",
    "#scale up max iter\n",
    "\n",
    "max_iter = 10000000\n",
    "\n",
    "#uploaing data \n",
    "\n",
    "df_train = pd.read_csv(\"aug_train.csv\")"
   ]
  },
  {
   "cell_type": "markdown",
   "metadata": {},
   "source": [
    "## DATA OVERVIEW"
   ]
  },
  {
   "cell_type": "code",
   "execution_count": 2,
   "metadata": {},
   "outputs": [
    {
     "data": {
      "text/html": [
       "<div>\n",
       "<style scoped>\n",
       "    .dataframe tbody tr th:only-of-type {\n",
       "        vertical-align: middle;\n",
       "    }\n",
       "\n",
       "    .dataframe tbody tr th {\n",
       "        vertical-align: top;\n",
       "    }\n",
       "\n",
       "    .dataframe thead th {\n",
       "        text-align: right;\n",
       "    }\n",
       "</style>\n",
       "<table border=\"1\" class=\"dataframe\">\n",
       "  <thead>\n",
       "    <tr style=\"text-align: right;\">\n",
       "      <th></th>\n",
       "      <th>enrollee_id</th>\n",
       "      <th>city</th>\n",
       "      <th>city_development_index</th>\n",
       "      <th>gender</th>\n",
       "      <th>relevent_experience</th>\n",
       "      <th>enrolled_university</th>\n",
       "      <th>education_level</th>\n",
       "      <th>major_discipline</th>\n",
       "      <th>experience</th>\n",
       "      <th>company_size</th>\n",
       "      <th>company_type</th>\n",
       "      <th>last_new_job</th>\n",
       "      <th>training_hours</th>\n",
       "      <th>target</th>\n",
       "    </tr>\n",
       "  </thead>\n",
       "  <tbody>\n",
       "    <tr>\n",
       "      <th>0</th>\n",
       "      <td>8949</td>\n",
       "      <td>city_103</td>\n",
       "      <td>0.920</td>\n",
       "      <td>Male</td>\n",
       "      <td>Has relevent experience</td>\n",
       "      <td>no_enrollment</td>\n",
       "      <td>Graduate</td>\n",
       "      <td>STEM</td>\n",
       "      <td>&gt;20</td>\n",
       "      <td>NaN</td>\n",
       "      <td>NaN</td>\n",
       "      <td>1</td>\n",
       "      <td>36</td>\n",
       "      <td>1.0</td>\n",
       "    </tr>\n",
       "    <tr>\n",
       "      <th>1</th>\n",
       "      <td>29725</td>\n",
       "      <td>city_40</td>\n",
       "      <td>0.776</td>\n",
       "      <td>Male</td>\n",
       "      <td>No relevent experience</td>\n",
       "      <td>no_enrollment</td>\n",
       "      <td>Graduate</td>\n",
       "      <td>STEM</td>\n",
       "      <td>15</td>\n",
       "      <td>50-99</td>\n",
       "      <td>Pvt Ltd</td>\n",
       "      <td>&gt;4</td>\n",
       "      <td>47</td>\n",
       "      <td>0.0</td>\n",
       "    </tr>\n",
       "    <tr>\n",
       "      <th>2</th>\n",
       "      <td>11561</td>\n",
       "      <td>city_21</td>\n",
       "      <td>0.624</td>\n",
       "      <td>NaN</td>\n",
       "      <td>No relevent experience</td>\n",
       "      <td>Full time course</td>\n",
       "      <td>Graduate</td>\n",
       "      <td>STEM</td>\n",
       "      <td>5</td>\n",
       "      <td>NaN</td>\n",
       "      <td>NaN</td>\n",
       "      <td>never</td>\n",
       "      <td>83</td>\n",
       "      <td>0.0</td>\n",
       "    </tr>\n",
       "    <tr>\n",
       "      <th>3</th>\n",
       "      <td>33241</td>\n",
       "      <td>city_115</td>\n",
       "      <td>0.789</td>\n",
       "      <td>NaN</td>\n",
       "      <td>No relevent experience</td>\n",
       "      <td>NaN</td>\n",
       "      <td>Graduate</td>\n",
       "      <td>Business Degree</td>\n",
       "      <td>&lt;1</td>\n",
       "      <td>NaN</td>\n",
       "      <td>Pvt Ltd</td>\n",
       "      <td>never</td>\n",
       "      <td>52</td>\n",
       "      <td>1.0</td>\n",
       "    </tr>\n",
       "    <tr>\n",
       "      <th>4</th>\n",
       "      <td>666</td>\n",
       "      <td>city_162</td>\n",
       "      <td>0.767</td>\n",
       "      <td>Male</td>\n",
       "      <td>Has relevent experience</td>\n",
       "      <td>no_enrollment</td>\n",
       "      <td>Masters</td>\n",
       "      <td>STEM</td>\n",
       "      <td>&gt;20</td>\n",
       "      <td>50-99</td>\n",
       "      <td>Funded Startup</td>\n",
       "      <td>4</td>\n",
       "      <td>8</td>\n",
       "      <td>0.0</td>\n",
       "    </tr>\n",
       "  </tbody>\n",
       "</table>\n",
       "</div>"
      ],
      "text/plain": [
       "   enrollee_id      city  city_development_index gender  \\\n",
       "0         8949  city_103                   0.920   Male   \n",
       "1        29725   city_40                   0.776   Male   \n",
       "2        11561   city_21                   0.624    NaN   \n",
       "3        33241  city_115                   0.789    NaN   \n",
       "4          666  city_162                   0.767   Male   \n",
       "\n",
       "       relevent_experience enrolled_university education_level  \\\n",
       "0  Has relevent experience       no_enrollment        Graduate   \n",
       "1   No relevent experience       no_enrollment        Graduate   \n",
       "2   No relevent experience    Full time course        Graduate   \n",
       "3   No relevent experience                 NaN        Graduate   \n",
       "4  Has relevent experience       no_enrollment         Masters   \n",
       "\n",
       "  major_discipline experience company_size    company_type last_new_job  \\\n",
       "0             STEM        >20          NaN             NaN            1   \n",
       "1             STEM         15        50-99         Pvt Ltd           >4   \n",
       "2             STEM          5          NaN             NaN        never   \n",
       "3  Business Degree         <1          NaN         Pvt Ltd        never   \n",
       "4             STEM        >20        50-99  Funded Startup            4   \n",
       "\n",
       "   training_hours  target  \n",
       "0              36     1.0  \n",
       "1              47     0.0  \n",
       "2              83     0.0  \n",
       "3              52     1.0  \n",
       "4               8     0.0  "
      ]
     },
     "execution_count": 2,
     "metadata": {},
     "output_type": "execute_result"
    }
   ],
   "source": [
    "df_train.head()"
   ]
  },
  {
   "cell_type": "code",
   "execution_count": 3,
   "metadata": {},
   "outputs": [
    {
     "name": "stdout",
     "output_type": "stream",
     "text": [
      "<class 'pandas.core.frame.DataFrame'>\n",
      "RangeIndex: 19158 entries, 0 to 19157\n",
      "Data columns (total 14 columns):\n",
      " #   Column                  Non-Null Count  Dtype  \n",
      "---  ------                  --------------  -----  \n",
      " 0   enrollee_id             19158 non-null  int64  \n",
      " 1   city                    19158 non-null  object \n",
      " 2   city_development_index  19158 non-null  float64\n",
      " 3   gender                  14650 non-null  object \n",
      " 4   relevent_experience     19158 non-null  object \n",
      " 5   enrolled_university     18772 non-null  object \n",
      " 6   education_level         18698 non-null  object \n",
      " 7   major_discipline        16345 non-null  object \n",
      " 8   experience              19093 non-null  object \n",
      " 9   company_size            13220 non-null  object \n",
      " 10  company_type            13018 non-null  object \n",
      " 11  last_new_job            18735 non-null  object \n",
      " 12  training_hours          19158 non-null  int64  \n",
      " 13  target                  19158 non-null  float64\n",
      "dtypes: float64(2), int64(2), object(10)\n",
      "memory usage: 2.0+ MB\n"
     ]
    }
   ],
   "source": [
    "df_train.info()"
   ]
  },
  {
   "cell_type": "code",
   "execution_count": 4,
   "metadata": {},
   "outputs": [],
   "source": [
    "def null_status(df):\n",
    "    num_na = df.isna().sum()\n",
    "    num_full = len(df) - num_na\n",
    "\n",
    "    num_na = pd.DataFrame(num_na).reset_index().rename(columns = {'index':\"feature\",0:\"num_na\"})\n",
    "    num_full = pd.DataFrame(num_full).reset_index().rename(columns = {'index':\"feature\",0:\"num_full\"})\n",
    "\n",
    "    df_status = num_full.merge(num_na, on='feature', how='left')\n",
    "\n",
    "    bar_chart = df_status.plot.bar(x='feature', stacked = \"true\",rot=90)"
   ]
  },
  {
   "cell_type": "code",
   "execution_count": 5,
   "metadata": {},
   "outputs": [
    {
     "data": {
      "image/png": "[encoded data removed]",
      "text/plain": [
       "<Figure size 432x288 with 1 Axes>"
      ]
     },
     "metadata": {
      "needs_background": "light"
     },
     "output_type": "display_data"
    }
   ],
   "source": [
    "null_status(df_train)"
   ]
  },
  {
   "cell_type": "code",
   "execution_count": 6,
   "metadata": {},
   "outputs": [
    {
     "data": {
      "text/html": [
       "<style  type=\"text/css\" >\n",
       "    #T_75a875d4_63d3_11eb_9cc8_367dda14f1ffrow0_col0 {\n",
       "            background-color:  #b40426;\n",
       "            color:  #f1f1f1;\n",
       "        }    #T_75a875d4_63d3_11eb_9cc8_367dda14f1ffrow0_col1 {\n",
       "            background-color:  #84a7fc;\n",
       "            color:  #000000;\n",
       "        }    #T_75a875d4_63d3_11eb_9cc8_367dda14f1ffrow0_col2 {\n",
       "            background-color:  #4055c8;\n",
       "            color:  #f1f1f1;\n",
       "        }    #T_75a875d4_63d3_11eb_9cc8_367dda14f1ffrow0_col3 {\n",
       "            background-color:  #9bbcff;\n",
       "            color:  #000000;\n",
       "        }    #T_75a875d4_63d3_11eb_9cc8_367dda14f1ffrow1_col0 {\n",
       "            background-color:  #3b4cc0;\n",
       "            color:  #f1f1f1;\n",
       "        }    #T_75a875d4_63d3_11eb_9cc8_367dda14f1ffrow1_col1 {\n",
       "            background-color:  #b40426;\n",
       "            color:  #f1f1f1;\n",
       "        }    #T_75a875d4_63d3_11eb_9cc8_367dda14f1ffrow1_col2 {\n",
       "            background-color:  #4055c8;\n",
       "            color:  #f1f1f1;\n",
       "        }    #T_75a875d4_63d3_11eb_9cc8_367dda14f1ffrow1_col3 {\n",
       "            background-color:  #3b4cc0;\n",
       "            color:  #f1f1f1;\n",
       "        }    #T_75a875d4_63d3_11eb_9cc8_367dda14f1ffrow2_col0 {\n",
       "            background-color:  #465ecf;\n",
       "            color:  #f1f1f1;\n",
       "        }    #T_75a875d4_63d3_11eb_9cc8_367dda14f1ffrow2_col1 {\n",
       "            background-color:  #8fb1fe;\n",
       "            color:  #000000;\n",
       "        }    #T_75a875d4_63d3_11eb_9cc8_367dda14f1ffrow2_col2 {\n",
       "            background-color:  #b40426;\n",
       "            color:  #f1f1f1;\n",
       "        }    #T_75a875d4_63d3_11eb_9cc8_367dda14f1ffrow2_col3 {\n",
       "            background-color:  #89acfd;\n",
       "            color:  #000000;\n",
       "        }    #T_75a875d4_63d3_11eb_9cc8_367dda14f1ffrow3_col0 {\n",
       "            background-color:  #5572df;\n",
       "            color:  #000000;\n",
       "        }    #T_75a875d4_63d3_11eb_9cc8_367dda14f1ffrow3_col1 {\n",
       "            background-color:  #3b4cc0;\n",
       "            color:  #f1f1f1;\n",
       "        }    #T_75a875d4_63d3_11eb_9cc8_367dda14f1ffrow3_col2 {\n",
       "            background-color:  #3b4cc0;\n",
       "            color:  #f1f1f1;\n",
       "        }    #T_75a875d4_63d3_11eb_9cc8_367dda14f1ffrow3_col3 {\n",
       "            background-color:  #b40426;\n",
       "            color:  #f1f1f1;\n",
       "        }</style><table id=\"T_75a875d4_63d3_11eb_9cc8_367dda14f1ff\" ><thead>    <tr>        <th class=\"blank level0\" ></th>        <th class=\"col_heading level0 col0\" >enrollee_id</th>        <th class=\"col_heading level0 col1\" >city_development_index</th>        <th class=\"col_heading level0 col2\" >training_hours</th>        <th class=\"col_heading level0 col3\" >target</th>    </tr></thead><tbody>\n",
       "                <tr>\n",
       "                        <th id=\"T_75a875d4_63d3_11eb_9cc8_367dda14f1fflevel0_row0\" class=\"row_heading level0 row0\" >enrollee_id</th>\n",
       "                        <td id=\"T_75a875d4_63d3_11eb_9cc8_367dda14f1ffrow0_col0\" class=\"data row0 col0\" >1.00</td>\n",
       "                        <td id=\"T_75a875d4_63d3_11eb_9cc8_367dda14f1ffrow0_col1\" class=\"data row0 col1\" >-0.04</td>\n",
       "                        <td id=\"T_75a875d4_63d3_11eb_9cc8_367dda14f1ffrow0_col2\" class=\"data row0 col2\" >0.00</td>\n",
       "                        <td id=\"T_75a875d4_63d3_11eb_9cc8_367dda14f1ffrow0_col3\" class=\"data row0 col3\" >0.05</td>\n",
       "            </tr>\n",
       "            <tr>\n",
       "                        <th id=\"T_75a875d4_63d3_11eb_9cc8_367dda14f1fflevel0_row1\" class=\"row_heading level0 row1\" >city_development_index</th>\n",
       "                        <td id=\"T_75a875d4_63d3_11eb_9cc8_367dda14f1ffrow1_col0\" class=\"data row1 col0\" >-0.04</td>\n",
       "                        <td id=\"T_75a875d4_63d3_11eb_9cc8_367dda14f1ffrow1_col1\" class=\"data row1 col1\" >1.00</td>\n",
       "                        <td id=\"T_75a875d4_63d3_11eb_9cc8_367dda14f1ffrow1_col2\" class=\"data row1 col2\" >0.00</td>\n",
       "                        <td id=\"T_75a875d4_63d3_11eb_9cc8_367dda14f1ffrow1_col3\" class=\"data row1 col3\" >-0.34</td>\n",
       "            </tr>\n",
       "            <tr>\n",
       "                        <th id=\"T_75a875d4_63d3_11eb_9cc8_367dda14f1fflevel0_row2\" class=\"row_heading level0 row2\" >training_hours</th>\n",
       "                        <td id=\"T_75a875d4_63d3_11eb_9cc8_367dda14f1ffrow2_col0\" class=\"data row2 col0\" >0.00</td>\n",
       "                        <td id=\"T_75a875d4_63d3_11eb_9cc8_367dda14f1ffrow2_col1\" class=\"data row2 col1\" >0.00</td>\n",
       "                        <td id=\"T_75a875d4_63d3_11eb_9cc8_367dda14f1ffrow2_col2\" class=\"data row2 col2\" >1.00</td>\n",
       "                        <td id=\"T_75a875d4_63d3_11eb_9cc8_367dda14f1ffrow2_col3\" class=\"data row2 col3\" >-0.02</td>\n",
       "            </tr>\n",
       "            <tr>\n",
       "                        <th id=\"T_75a875d4_63d3_11eb_9cc8_367dda14f1fflevel0_row3\" class=\"row_heading level0 row3\" >target</th>\n",
       "                        <td id=\"T_75a875d4_63d3_11eb_9cc8_367dda14f1ffrow3_col0\" class=\"data row3 col0\" >0.05</td>\n",
       "                        <td id=\"T_75a875d4_63d3_11eb_9cc8_367dda14f1ffrow3_col1\" class=\"data row3 col1\" >-0.34</td>\n",
       "                        <td id=\"T_75a875d4_63d3_11eb_9cc8_367dda14f1ffrow3_col2\" class=\"data row3 col2\" >-0.02</td>\n",
       "                        <td id=\"T_75a875d4_63d3_11eb_9cc8_367dda14f1ffrow3_col3\" class=\"data row3 col3\" >1.00</td>\n",
       "            </tr>\n",
       "    </tbody></table>"
      ],
      "text/plain": [
       "<pandas.io.formats.style.Styler at 0x7fa8ac2224f0>"
      ]
     },
     "execution_count": 6,
     "metadata": {},
     "output_type": "execute_result"
    }
   ],
   "source": [
    "#check whether there are high correlation btw features or not\n",
    "corr = df_train.corr()\n",
    "corr.style.background_gradient(cmap='coolwarm').set_precision(2)\n"
   ]
  },
  {
   "cell_type": "markdown",
   "metadata": {},
   "source": [
    "## DATA PREPROCESSING"
   ]
  },
  {
   "cell_type": "code",
   "execution_count": 7,
   "metadata": {},
   "outputs": [
    {
     "name": "stdout",
     "output_type": "stream",
     "text": [
      "Following features are initially categorical. \n",
      "city column has 123 unique values and 0 NULL values.\n",
      "['city_103' 'city_40' 'city_21' 'city_115' 'city_162' 'city_176'\n",
      " 'city_160' 'city_46' 'city_61' 'city_114' 'city_13' 'city_159' 'city_102'\n",
      " 'city_67' 'city_100' 'city_16' 'city_71' 'city_104' 'city_64' 'city_101'\n",
      " 'city_83' 'city_105' 'city_73' 'city_75' 'city_41' 'city_11' 'city_93'\n",
      " 'city_90' 'city_36' 'city_20' 'city_57' 'city_152' 'city_19' 'city_65'\n",
      " 'city_74' 'city_173' 'city_136' 'city_98' 'city_97' 'city_50' 'city_138'\n",
      " 'city_82' 'city_157' 'city_89' 'city_150' 'city_70' 'city_175' 'city_94'\n",
      " 'city_28' 'city_59' 'city_165' 'city_145' 'city_142' 'city_26' 'city_12'\n",
      " 'city_37' 'city_43' 'city_116' 'city_23' 'city_99' 'city_149' 'city_10'\n",
      " 'city_45' 'city_80' 'city_128' 'city_158' 'city_123' 'city_7' 'city_72'\n",
      " 'city_106' 'city_143' 'city_78' 'city_109' 'city_24' 'city_134' 'city_48'\n",
      " 'city_144' 'city_91' 'city_146' 'city_133' 'city_126' 'city_118' 'city_9'\n",
      " 'city_167' 'city_27' 'city_84' 'city_54' 'city_39' 'city_79' 'city_76'\n",
      " 'city_77' 'city_81' 'city_131' 'city_44' 'city_117' 'city_155' 'city_33'\n",
      " 'city_141' 'city_127' 'city_62' 'city_53' 'city_25' 'city_2' 'city_69'\n",
      " 'city_120' 'city_111' 'city_30' 'city_1' 'city_140' 'city_179' 'city_55'\n",
      " 'city_14' 'city_42' 'city_107' 'city_18' 'city_139' 'city_180' 'city_166'\n",
      " 'city_121' 'city_129' 'city_8' 'city_31' 'city_171']\n",
      "gender column has 4 unique values and 4508 NULL values.\n",
      "['Male' nan 'Female' 'Other']\n",
      "relevent_experience column has 2 unique values and 0 NULL values.\n",
      "['Has relevent experience' 'No relevent experience']\n",
      "enrolled_university column has 4 unique values and 386 NULL values.\n",
      "['no_enrollment' 'Full time course' nan 'Part time course']\n",
      "education_level column has 6 unique values and 460 NULL values.\n",
      "['Graduate' 'Masters' 'High School' nan 'Phd' 'Primary School']\n",
      "major_discipline column has 7 unique values and 2813 NULL values.\n",
      "['STEM' 'Business Degree' nan 'Arts' 'Humanities' 'No Major' 'Other']\n",
      "experience column has 23 unique values and 65 NULL values.\n",
      "['>20' '15' '5' '<1' '11' '13' '7' '17' '2' '16' '1' '4' '10' '14' '18'\n",
      " '19' '12' '3' '6' '9' '8' '20' nan]\n",
      "company_size column has 9 unique values and 5938 NULL values.\n",
      "[nan '50-99' '<10' '10000+' '5000-9999' '1000-4999' '10/49' '100-500'\n",
      " '500-999']\n",
      "company_type column has 7 unique values and 6140 NULL values.\n",
      "[nan 'Pvt Ltd' 'Funded Startup' 'Early Stage Startup' 'Other'\n",
      " 'Public Sector' 'NGO']\n",
      "last_new_job column has 7 unique values and 423 NULL values.\n",
      "['1' '>4' 'never' '4' '3' '2' nan]\n"
     ]
    }
   ],
   "source": [
    "# unique values for categorical variables. \n",
    "\n",
    "print(\"Following features are initially categorical. \")\n",
    "for column in df_train:\n",
    "    col_type = df_train[column].dtypes\n",
    "    if col_type == \"object\":\n",
    "        num_unique = df_train[column].unique().shape[0]\n",
    "        val_unique = df_train[column].unique()\n",
    "        num_nan = df_train[df_train[column].isna()].shape[0]\n",
    "        print(f\"{column} column has {num_unique} unique values and {num_nan} NULL values.\")\n",
    "        print(val_unique)"
   ]
  },
  {
   "cell_type": "code",
   "execution_count": 8,
   "metadata": {},
   "outputs": [],
   "source": [
    "# A function that will change some variables and deal with NA\n",
    "# We didn't do anything about city, but there are more than 100 different values, it shouldnt be categorical. \n",
    "\n",
    "def data_process(df):\n",
    "    for column in df:\n",
    "        if column == \"gender\":\n",
    "            df[\"gender\"] = df[\"gender\"].fillna(\"Not stated\")\n",
    "        elif column == \"enrolled_university\":\n",
    "            df[\"enrolled_university\"] = df[\"enrolled_university\"].fillna(\"Not stated\")\n",
    "            #TO DO: wrt education level, this might be refreshed. \n",
    "        elif column == \"education_level\":\n",
    "            df[\"education_level\"] = df[\"education_level\"].fillna(\"Not stated\")\n",
    "        elif column == \"major_discipline\":\n",
    "            df[\"major_discipline\"] = df[\"major_discipline\"].fillna(\"Not stated\")\n",
    "        elif column == \"experience\":\n",
    "            for i in range(0,len(df)):\n",
    "                if df[\"experience\"].loc[i] == \">20\":\n",
    "                    df[\"experience\"].loc[i]=\"21\"\n",
    "                elif df[\"experience\"].loc[i] == \"<1\":\n",
    "                    df[\"experience\"].loc[i] = \"0\"\n",
    "            df[\"experience\"] = df[\"experience\"].fillna(0)\n",
    "            df[\"experience\"] = df['experience'].astype('int')\n",
    "        elif column == \"company_size\":\n",
    "            for i in range(0,len(df)):\n",
    "                if df[\"company_size\"].loc[i] == \"<10\":\n",
    "                    df[\"company_size\"].loc[i]=\"1-9\"\n",
    "                elif df[\"company_size\"].loc[i] == \"10/49\":\n",
    "                    df[\"company_size\"].loc[i] = \"10-49\"\n",
    "                elif df[\"company_size\"].loc[i] == \"10000+\":\n",
    "                    df[\"company_size\"].loc[i] = \"10001-20000\"\n",
    "            df_train[\"company_size\"].fillna(df_train[\"company_size\"].mode()[0], inplace=True)\n",
    "        elif column == \"company_type\":\n",
    "            df[\"company_type\"] = df[\"company_type\"].fillna(\"Not stated\")\n",
    "        elif column == \"last_new_job\":\n",
    "            for i in range(0,len(df)):\n",
    "                if df[\"last_new_job\"].loc[i] == \">4\":\n",
    "                    df[\"last_new_job\"].loc[i]=\"5\"\n",
    "                elif df[\"last_new_job\"].loc[i] == \"never\":\n",
    "                    df[\"last_new_job\"].loc[i]=\"0\"\n",
    "            df[\"last_new_job\"] = df[\"last_new_job\"].astype(\"float\")\n",
    "            df[\"last_new_job\"].fillna(df[\"last_new_job\"].mean(), inplace=True)\n",
    "            df[\"last_new_job\"] = df[\"last_new_job\"].astype(\"int\")\n",
    "                            "
   ]
  },
  {
   "cell_type": "code",
   "execution_count": 9,
   "metadata": {},
   "outputs": [],
   "source": [
    "data_process(df_train)"
   ]
  },
  {
   "cell_type": "markdown",
   "metadata": {},
   "source": [
    "## OPTION 1 - LOGISTIC REGRESSION"
   ]
  },
  {
   "cell_type": "code",
   "execution_count": 10,
   "metadata": {},
   "outputs": [],
   "source": [
    "# Since there are many categorical variables, we should encode them in order to use in LR. I will use one hot encoding.\n",
    "\n",
    "df_train = pd.concat([df_train, pd.get_dummies(df_train.select_dtypes(include='object'))], axis=1)\n",
    "to_be_dropped = df_train.select_dtypes(include='object').columns\n",
    "df_train = df_train.drop(to_be_dropped, axis=1)"
   ]
  },
  {
   "cell_type": "code",
   "execution_count": 11,
   "metadata": {},
   "outputs": [],
   "source": [
    "#Let's seperate our target and variables\n",
    "\n",
    "X = df_train.drop(\"target\",axis=1)\n",
    "y = pd.DataFrame(df_train[\"target\"])"
   ]
  },
  {
   "cell_type": "code",
   "execution_count": 12,
   "metadata": {},
   "outputs": [],
   "source": [
    "X_train, X_test, y_train, y_test = train_test_split(X, y, test_size=0.3, random_state=42, shuffle=True, stratify = y)"
   ]
  },
  {
   "cell_type": "code",
   "execution_count": 13,
   "metadata": {},
   "outputs": [],
   "source": [
    "logistic_model = LogisticRegression(solver='lbfgs', max_iter = 10000)\n",
    "logistic_model.fit(X_train,y_train.values.ravel())\n",
    "\n",
    "y_pred = logistic_model.predict(X_test)"
   ]
  },
  {
   "cell_type": "code",
   "execution_count": 14,
   "metadata": {},
   "outputs": [
    {
     "name": "stdout",
     "output_type": "stream",
     "text": [
      "              precision    recall  f1-score   support\n",
      "\n",
      "         0.0       0.80      0.93      0.86      4315\n",
      "         1.0       0.59      0.30      0.40      1433\n",
      "\n",
      "    accuracy                           0.77      5748\n",
      "   macro avg       0.69      0.61      0.63      5748\n",
      "weighted avg       0.75      0.77      0.74      5748\n",
      "\n"
     ]
    },
    {
     "data": {
      "text/plain": [
       "array([[4017,  298],\n",
       "       [1006,  427]])"
      ]
     },
     "execution_count": 14,
     "metadata": {},
     "output_type": "execute_result"
    }
   ],
   "source": [
    "print(classification_report(y_test,y_pred))\n",
    "\n",
    "confusion_matrix(y_test,y_pred)"
   ]
  }
 ],
 "metadata": {
  "kernelspec": {
   "display_name": "Python 3",
   "language": "python",
   "name": "python3"
  },
  "language_info": {
   "codemirror_mode": {
    "name": "ipython",
    "version": 3
   },
   "file_extension": ".py",
   "mimetype": "text/x-python",
   "name": "python",
   "nbconvert_exporter": "python",
   "pygments_lexer": "ipython3",
   "version": "3.8.3"
  }
 },
 "nbformat": 4,
 "nbformat_minor": 4
}
