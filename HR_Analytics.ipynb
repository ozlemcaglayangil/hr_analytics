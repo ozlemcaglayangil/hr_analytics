{
 "cells": [
  {
   "cell_type": "markdown",
   "metadata": {},
   "source": [
    "# IMPORTING DATA AND LIBRARIES"
   ]
  },
  {
   "cell_type": "code",
   "execution_count": null,
   "metadata": {},
   "outputs": [],
   "source": [
    "#importing related packages \n",
    "\n",
    "import pandas as pd\n",
    "import numpy as np\n",
    "import seaborn as sns\n",
    "from sklearn.model_selection import train_test_split\n",
    "from sklearn.linear_model import LogisticRegression\n",
    "from sklearn.metrics import accuracy_score \n",
    "from sklearn.metrics import confusion_matrix as cm\n",
    "from sklearn.linear_model import SGDClassifier\n",
    "from sklearn.linear_model import LogisticRegression\n",
    "from sklearn.model_selection import cross_val_score\n",
    "from sklearn.model_selection import GridSearchCV\n",
    "from sklearn.metrics import classification_report,confusion_matrix\n",
    "from sklearn.metrics import roc_auc_score,roc_curve\n",
    "pd.options.mode.chained_assignment = None \n",
    "\n",
    "#scale up max iter\n",
    "\n",
    "max_iter = 10000000\n",
    "\n",
    "#uploaing data \n",
    "\n",
    "df_train = pd.read_csv(\"aug_train.csv\")"
   ]
  },
  {
   "cell_type": "markdown",
   "metadata": {},
   "source": [
    "## DATA OVERVIEW"
   ]
  },
  {
   "cell_type": "code",
   "execution_count": null,
   "metadata": {},
   "outputs": [],
   "source": [
    "df_train.head()"
   ]
  },
  {
   "cell_type": "code",
   "execution_count": null,
   "metadata": {},
   "outputs": [],
   "source": [
    "df_train.info()"
   ]
  },
  {
   "cell_type": "code",
   "execution_count": null,
   "metadata": {},
   "outputs": [],
   "source": [
    "def null_status(df):\n",
    "    num_na = df.isna().sum()\n",
    "    num_full = len(df) - num_na\n",
    "\n",
    "    num_na = pd.DataFrame(num_na).reset_index().rename(columns = {'index':\"feature\",0:\"num_na\"})\n",
    "    num_full = pd.DataFrame(num_full).reset_index().rename(columns = {'index':\"feature\",0:\"num_full\"})\n",
    "\n",
    "    df_status = num_full.merge(num_na, on='feature', how='left')\n",
    "\n",
    "    bar_chart = df_status.plot.bar(x='feature', stacked = \"true\",rot=90)"
   ]
  },
  {
   "cell_type": "code",
   "execution_count": null,
   "metadata": {},
   "outputs": [],
   "source": [
    "null_status(df_train)"
   ]
  },
  {
   "cell_type": "code",
   "execution_count": null,
   "metadata": {},
   "outputs": [],
   "source": [
    "#check whether there are high correlation btw features or not\n",
    "corr = df_train.corr()\n",
    "corr.style.background_gradient(cmap='coolwarm').set_precision(2)\n"
   ]
  },
  {
   "cell_type": "markdown",
   "metadata": {},
   "source": [
    "## DATA PREPROCESSING"
   ]
  },
  {
   "cell_type": "code",
   "execution_count": null,
   "metadata": {},
   "outputs": [],
   "source": [
    "# unique values for categorical variables. \n",
    "\n",
    "print(\"Following features are initially categorical. \")\n",
    "for column in df_train:\n",
    "    col_type = df_train[column].dtypes\n",
    "    if col_type == \"object\":\n",
    "        num_unique = df_train[column].unique().shape[0]\n",
    "        val_unique = df_train[column].unique()\n",
    "        num_nan = df_train[df_train[column].isna()].shape[0]\n",
    "        print(f\"{column} column has {num_unique} unique values and {num_nan} NULL values.\")\n",
    "        print(val_unique)"
   ]
  },
  {
   "cell_type": "code",
   "execution_count": null,
   "metadata": {},
   "outputs": [],
   "source": [
    "# A function that will change some variables and deal with NA\n",
    "# We didn't do anything about city, but there are more than 100 different values, it shouldnt be categorical. \n",
    "\n",
    "def data_process(df):\n",
    "    for column in df:\n",
    "        if column == \"gender\":\n",
    "            df[\"gender\"] = df[\"gender\"].fillna(\"Not stated\")\n",
    "        elif column == \"enrolled_university\":\n",
    "            df[\"enrolled_university\"] = df[\"enrolled_university\"].fillna(\"Not stated\")\n",
    "            #TO DO: wrt education level, this might be refreshed. \n",
    "        elif column == \"education_level\":\n",
    "            df[\"education_level\"] = df[\"education_level\"].fillna(\"Not stated\")\n",
    "        elif column == \"major_discipline\":\n",
    "            df[\"major_discipline\"] = df[\"major_discipline\"].fillna(\"Not stated\")\n",
    "        elif column == \"experience\":\n",
    "            for i in range(0,len(df)):\n",
    "                if df[\"experience\"].loc[i] == \">20\":\n",
    "                    df[\"experience\"].loc[i]=\"21\"\n",
    "                elif df[\"experience\"].loc[i] == \"<1\":\n",
    "                    df[\"experience\"].loc[i] = \"0\"\n",
    "            df[\"experience\"] = df[\"experience\"].fillna(0)\n",
    "            df[\"experience\"] = df['experience'].astype('int')\n",
    "        elif column == \"company_size\":\n",
    "            for i in range(0,len(df)):\n",
    "                if df[\"company_size\"].loc[i] == \"<10\":\n",
    "                    df[\"company_size\"].loc[i]=\"1-9\"\n",
    "                elif df[\"company_size\"].loc[i] == \"10/49\":\n",
    "                    df[\"company_size\"].loc[i] = \"10-49\"\n",
    "                elif df[\"company_size\"].loc[i] == \"10000+\":\n",
    "                    df[\"company_size\"].loc[i] = \"10001-20000\"\n",
    "            df_train[\"company_size\"].fillna(df_train[\"company_size\"].mode()[0], inplace=True)\n",
    "        elif column == \"company_type\":\n",
    "            df[\"company_type\"] = df[\"company_type\"].fillna(\"Not stated\")\n",
    "        elif column == \"last_new_job\":\n",
    "            for i in range(0,len(df)):\n",
    "                if df[\"last_new_job\"].loc[i] == \">4\":\n",
    "                    df[\"last_new_job\"].loc[i]=\"5\"\n",
    "                elif df[\"last_new_job\"].loc[i] == \"never\":\n",
    "                    df[\"last_new_job\"].loc[i]=\"0\"\n",
    "            df[\"last_new_job\"] = df[\"last_new_job\"].astype(\"float\")\n",
    "            df[\"last_new_job\"].fillna(df[\"last_new_job\"].mean(), inplace=True)\n",
    "            df[\"last_new_job\"] = df[\"last_new_job\"].astype(\"int\")\n",
    "                            "
   ]
  },
  {
   "cell_type": "code",
   "execution_count": null,
   "metadata": {},
   "outputs": [],
   "source": [
    "data_process(df_train)"
   ]
  },
  {
   "cell_type": "markdown",
   "metadata": {},
   "source": [
    "## OPTION 1 - LOGISTIC REGRESSION"
   ]
  },
  {
   "cell_type": "code",
   "execution_count": null,
   "metadata": {},
   "outputs": [],
   "source": [
    "# Since there are many categorical variables, we should encode them in order to use in LR. I will use one hot encoding.\n",
    "\n",
    "df_train = pd.concat([df_train, pd.get_dummies(df_train.select_dtypes(include='object'))], axis=1)\n",
    "to_be_dropped = df_train.select_dtypes(include='object').columns\n",
    "df_train = df_train.drop(to_be_dropped, axis=1)"
   ]
  },
  {
   "cell_type": "code",
   "execution_count": null,
   "metadata": {},
   "outputs": [],
   "source": [
    "#Let's seperate our target and variables\n",
    "\n",
    "X = df_train.drop(\"target\",axis=1)\n",
    "y = pd.DataFrame(df_train[\"target\"])"
   ]
  },
  {
   "cell_type": "code",
   "execution_count": null,
   "metadata": {},
   "outputs": [],
   "source": [
    "X_train, X_test, y_train, y_test = train_test_split(X, y, test_size=0.3, random_state=42, shuffle=True, stratify = y)"
   ]
  },
  {
   "cell_type": "code",
   "execution_count": null,
   "metadata": {},
   "outputs": [],
   "source": [
    "logistic_model = LogisticRegression(solver='lbfgs', max_iter = 10000)\n",
    "logistic_model.fit(X_train,y_train.values.ravel())\n",
    "\n",
    "y_pred = logistic_model.predict(X_test)"
   ]
  },
  {
   "cell_type": "code",
   "execution_count": null,
   "metadata": {},
   "outputs": [],
   "source": [
    "print(classification_report(y_test,y_pred))\n",
    "\n",
    "confusion_matrix(y_test,y_pred)"
   ]
  },
  {
   "cell_type": "code",
   "execution_count": null,
   "metadata": {},
   "outputs": [],
   "source": []
  }
 ],
 "metadata": {
  "kernelspec": {
   "display_name": "Python 3",
   "language": "python",
   "name": "python3"
  },
  "language_info": {
   "codemirror_mode": {
    "name": "ipython",
    "version": 3
   },
   "file_extension": ".py",
   "mimetype": "text/x-python",
   "name": "python",
   "nbconvert_exporter": "python",
   "pygments_lexer": "ipython3",
   "version": "3.8.3"
  }
 },
 "nbformat": 4,
 "nbformat_minor": 4
}
